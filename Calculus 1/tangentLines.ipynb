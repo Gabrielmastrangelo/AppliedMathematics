{
 "cells": [
  {
   "cell_type": "markdown",
   "metadata": {},
   "source": [
    "# Plotting tangent lines for parametrized functions\n",
    "\n",
    "I am taking the Math 116 or Calculus 1 course at Capilano, and for me the best way to study is to find ways to apply your new knowledge in a real application. So today the goal of this Jupyter notebook is to create a interactive code for plotting some parametrized functions and your tangent lines for a specific point.\n",
    "\n",
    "## Importing the Libraries"
   ]
  },
  {
   "cell_type": "code",
   "execution_count": 10,
   "metadata": {},
   "outputs": [],
   "source": [
    "import matplotlib.pyplot as plt\n",
    "import numpy as np\n",
    "import ipywidgets as widgets\n",
    "from IPython.display import display"
   ]
  },
  {
   "cell_type": "markdown",
   "metadata": {},
   "source": [
    "## Creating a main ploting function"
   ]
  },
  {
   "cell_type": "code",
   "execution_count": 11,
   "metadata": {},
   "outputs": [],
   "source": [
    "def plotting(xvalues, y, dy, f_x, x, slop, title, ybound = 10, textD = 1):\n",
    "    plt.plot(xvalues, y, label = \"f(x)\")\n",
    "    plt.plot(xvalues, dy, label = \"g(x)\")\n",
    "    plt.axhline(y=0, color='black', linestyle='--')\n",
    "    plt.axvline(x=0, color='black', linestyle='--')\n",
    "    plt.text(x+textD, f_x+textD*2, \"f'(x):\"+str(round(slop, 3)))\n",
    "    plt.plot(x, f_x, 'ro')\n",
    "    plt.legend()\n",
    "    plt.title(title + ' Function and Tangent Line')\n",
    "    ax = plt.gca()\n",
    "    ax.set_ylim([min(-ybound, y.min()*1.1), max(ybound, y.max()*1.1)])"
   ]
  },
  {
   "cell_type": "markdown",
   "metadata": {},
   "source": [
    "## Quadratic Function\n",
    "\n",
    "We know that a quadratic function can have the following format, for a != 0:\n",
    "\n",
    "$f(x) = ax^2 + bx + c$\n",
    "\n",
    "And for consequence, the following derivative function:\n",
    "\n",
    "$f'(x) = 2ax + b$\n",
    "\n",
    "Let's call the tangent line equation for a point h on f function g(x), we know that we can model it as:\n",
    "\n",
    "$g(x) = f'(h)(x-h) + f'(h)$"
   ]
  },
  {
   "cell_type": "code",
   "execution_count": 12,
   "metadata": {},
   "outputs": [
    {
     "data": {
      "application/vnd.jupyter.widget-view+json": {
       "model_id": "f537800c4fd64c029937a51d66888a76",
       "version_major": 2,
       "version_minor": 0
      },
      "text/plain": [
       "interactive(children=(FloatSlider(value=1.0, description='a', max=22.0, min=-20.0, step=0.5), FloatSlider(valu…"
      ]
     },
     "metadata": {},
     "output_type": "display_data"
    }
   ],
   "source": [
    "def quadraticEquat(a, b, c, x):\n",
    "    xvalues = np.linspace(-20, 20, 100)\n",
    "    y = xvalues**2*a + xvalues*b + c\n",
    "    slop = x*2*a + b\n",
    "    f_x = x**2*a + x*b + c\n",
    "    dy = slop*(xvalues - x) + f_x\n",
    "    plotting(xvalues, y, dy, f_x, x, slop, 'Quadratic')\n",
    "    \n",
    "controls = widgets.interactive(quadraticEquat,\n",
    "                               a = (-20, 22, 0.5),\n",
    "                               b = (-20, 20, 0.5),\n",
    "                               c = (-50, 50, 1),\n",
    "                               x = (-20, 20, 0.5)\n",
    "                              )\n",
    "display(controls)"
   ]
  },
  {
   "cell_type": "markdown",
   "metadata": {},
   "source": [
    "## Third degree polynomial function\n",
    "\n",
    "For a != 0:\n",
    "\n",
    "$f(x) = ax^3 + bx^2 + cx + d$\n",
    "\n",
    "And for consequence, the following derivative function:\n",
    "\n",
    "$f'(x) = 3ax^2 + 2bx + c$\n",
    "\n",
    "Let's call the tangent line equation for a point h on f function g(x), we know that we can model it as:\n",
    "\n",
    "$g(x) = f'(h)(x-h) + f'(h)$"
   ]
  },
  {
   "cell_type": "code",
   "execution_count": 13,
   "metadata": {},
   "outputs": [
    {
     "data": {
      "application/vnd.jupyter.widget-view+json": {
       "model_id": "ca03847f8d9b4c0ea823c882f24923a4",
       "version_major": 2,
       "version_minor": 0
      },
      "text/plain": [
       "interactive(children=(FloatSlider(value=1.0, description='a', max=22.0, min=-20.0, step=0.5), FloatSlider(valu…"
      ]
     },
     "metadata": {},
     "output_type": "display_data"
    }
   ],
   "source": [
    "def cubicEquat(a, b, c, d, x):   \n",
    "    xvalues = np.linspace(-8, 8, 100)\n",
    "    y = a*xvalues**3 + b*xvalues**2 + c*xvalues + d\n",
    "    slop = 3*a*x**2 + 2*b*x + c\n",
    "    f_x = a*x**3 + b*x**2 + c*x + d\n",
    "    dy = slop*(xvalues - x) + f_x\n",
    "    plotting(xvalues, y, dy, f_x, x, slop, 'Cubic')\n",
    "    \n",
    "controls = widgets.interactive(cubicEquat,\n",
    "                               a = (-20, 22, 0.5),\n",
    "                               b = (-20, 20, 0.5),\n",
    "                               c = (-20, 20, 1),\n",
    "                               d = (-50, 50, 1),\n",
    "                               x = (-8, 8, 0.5)\n",
    "                              )\n",
    "display(controls)"
   ]
  },
  {
   "cell_type": "markdown",
   "metadata": {},
   "source": [
    "## Exponential Function\n",
    "\n",
    "For k > 0:\n",
    "\n",
    "$f(x) = k^x + c$\n",
    "\n",
    "And for consequence, the following derivative function:\n",
    "\n",
    "$f'(x) = k^x ln(x)$\n",
    "\n",
    "Let's call the tangent line equation for a point h on f function g(x), we know that we can model it as:\n",
    "\n",
    "$g(x) = f'(h)(x-h) + f'(h)$"
   ]
  },
  {
   "cell_type": "code",
   "execution_count": 14,
   "metadata": {},
   "outputs": [
    {
     "data": {
      "application/vnd.jupyter.widget-view+json": {
       "model_id": "2d81fae56b8d4e8a96d2ecf9d741a75f",
       "version_major": 2,
       "version_minor": 0
      },
      "text/plain": [
       "interactive(children=(FloatSlider(value=2.41, description='k', max=5.0, min=0.01), FloatSlider(value=0.0, desc…"
      ]
     },
     "metadata": {},
     "output_type": "display_data"
    }
   ],
   "source": [
    "def expEq(k, c, x):   \n",
    "    xvalues = np.linspace(-10, 10, 100)\n",
    "    y = k**xvalues + c\n",
    "    slop = k**x*np.log(abs(k))\n",
    "    f_x = k**x + c\n",
    "    dy = slop*(xvalues - x) + f_x\n",
    "    plotting(xvalues, y, dy, f_x, x, slop, 'Exponential')\n",
    "    \n",
    "controls = widgets.interactive(expEq,\n",
    "                               k = (0.01, 5, 0.1),\n",
    "                               c = (-50, 50, 0.5),\n",
    "                               x = (-10, 10, 0.5)\n",
    "                              )\n",
    "display(controls)"
   ]
  },
  {
   "cell_type": "markdown",
   "metadata": {},
   "source": [
    "## Logarithmic Function\n",
    "\n",
    "For b>0:\n",
    "\n",
    "$f(x) = log_b(x)$\n",
    "\n",
    "And for consequence, the following derivative function:\n",
    "\n",
    "$f'(x) = \\frac{1}{xln(b)}$\n",
    "\n",
    "Let's call the tangent line equation for a point h on f function g(x), we know that we can model it as:\n",
    "\n",
    "$g(x) = f'(h)(x-h) + f'(h)$\n"
   ]
  },
  {
   "cell_type": "code",
   "execution_count": 15,
   "metadata": {},
   "outputs": [
    {
     "data": {
      "application/vnd.jupyter.widget-view+json": {
       "model_id": "edc221ca3c574dd6b9a977d975ff4f8f",
       "version_major": 2,
       "version_minor": 0
      },
      "text/plain": [
       "interactive(children=(FloatSlider(value=4.96, description='b', max=10.0, min=0.01, step=0.05), FloatSlider(val…"
      ]
     },
     "metadata": {},
     "output_type": "display_data"
    }
   ],
   "source": [
    "def logEq(b, x):   \n",
    "    import math as m\n",
    "    xvalues = np.linspace(0.001, 10, 1000)\n",
    "    y = np.array([m.log(i, b) for i in xvalues ])\n",
    "    slop = (x*np.log(b))**-1\n",
    "    f_x = m.log(x, b)\n",
    "    dy = slop*(xvalues - x) + f_x\n",
    "    plotting(xvalues, y, dy, f_x, x, slop, 'Log', 5, 0.03)\n",
    "    \n",
    "controls = widgets.interactive(logEq,\n",
    "                               b = (0.01, 10, 0.05),\n",
    "                               x = (0.0001, 10, 0.005)\n",
    "                              )\n",
    "display(controls)"
   ]
  },
  {
   "cell_type": "markdown",
   "metadata": {},
   "source": [
    "# Sine Function\n",
    "\n",
    "For a and c != 0:\n",
    "\n",
    "$f(x) = a sin(bx + c) + d$\n",
    "\n",
    "And for consequence, the following derivative function:\n",
    "\n",
    "$f'(x) = a b cos(bx + c)$\n",
    "\n",
    "Let's call the tangent line equation for a point h on f function g(x), we know that we can model it as:\n",
    "\n",
    "$g(x) = f'(h)(x-h) + f'(h)$"
   ]
  },
  {
   "cell_type": "code",
   "execution_count": 16,
   "metadata": {},
   "outputs": [
    {
     "data": {
      "application/vnd.jupyter.widget-view+json": {
       "model_id": "225fc0afecef40b9bab6a252f8fa9830",
       "version_major": 2,
       "version_minor": 0
      },
      "text/plain": [
       "interactive(children=(FloatSlider(value=1.0, description='a', max=5.0, min=-3.0), FloatSlider(value=1.0, descr…"
      ]
     },
     "metadata": {},
     "output_type": "display_data"
    }
   ],
   "source": [
    "def sinEq(a, b, c, d, x):   \n",
    "    xvalues = np.linspace(0, 2*np.pi, 100)\n",
    "    y = a*np.sin(b*xvalues + c) + d\n",
    "    slop = a*b*np.cos(b*x + c)\n",
    "    f_x = a*np.sin(b*x + c) + d\n",
    "    dy = slop*(xvalues - x) + f_x\n",
    "    plotting(xvalues, y, dy, f_x, x, slop, 'Sine', 1.2, 0.03)\n",
    "    \n",
    "controls = widgets.interactive(sinEq,\n",
    "                               a = (-3, 5, 0.1),\n",
    "                               b = (-5, 7, 0.1), \n",
    "                               c = (-10, 10, 0.1),\n",
    "                               d = (-5, 5, 0.1), \n",
    "                               x = (0, np.pi*2)\n",
    "                              )\n",
    "display(controls)"
   ]
  }
 ],
 "metadata": {
  "kernelspec": {
   "display_name": "Python 3",
   "language": "python",
   "name": "python3"
  },
  "language_info": {
   "codemirror_mode": {
    "name": "ipython",
    "version": 3
   },
   "file_extension": ".py",
   "mimetype": "text/x-python",
   "name": "python",
   "nbconvert_exporter": "python",
   "pygments_lexer": "ipython3",
   "version": "3.8.5"
  }
 },
 "nbformat": 4,
 "nbformat_minor": 4
}
